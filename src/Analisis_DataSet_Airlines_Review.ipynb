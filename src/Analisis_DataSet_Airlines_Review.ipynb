{
 "cells": [
  {
   "cell_type": "code",
   "execution_count": 2,
   "metadata": {},
   "outputs": [],
   "source": [
    "import pandas as pd"
   ]
  },
  {
   "cell_type": "code",
   "execution_count": 3,
   "metadata": {},
   "outputs": [],
   "source": [
    "df = pd.read_csv(\"airlines_reviews.csv\")\n"
   ]
  },
  {
   "cell_type": "markdown",
   "metadata": {},
   "source": [
    "## Manipulación de datos"
   ]
  },
  {
   "cell_type": "code",
   "execution_count": 4,
   "metadata": {},
   "outputs": [],
   "source": [
    "df = df[df['Verified'].isin(['True', 'False'])]"
   ]
  },
  {
   "cell_type": "markdown",
   "metadata": {},
   "source": [
    "Cantidad comentario verificado"
   ]
  },
  {
   "cell_type": "code",
   "execution_count": 5,
   "metadata": {},
   "outputs": [
    {
     "name": "stdout",
     "output_type": "stream",
     "text": [
      "Verified\n",
      "True     6216\n",
      "False    1881\n",
      "Name: count, dtype: int64\n",
      "\n",
      "La cantidad de comentarios verificados son 6216\n"
     ]
    }
   ],
   "source": [
    "print(df.Verified.value_counts())\n",
    "print()\n",
    "frecuencia_true = (df[\"Verified\"] == 'True').sum()\n",
    "print(f'La cantidad de comentarios verificados son {frecuencia_true}')\n",
    "\n"
   ]
  },
  {
   "cell_type": "markdown",
   "metadata": {},
   "source": [
    "¿Cuál es el rango de fechas de los vuelos que se registran en el dataset? "
   ]
  },
  {
   "cell_type": "code",
   "execution_count": 6,
   "metadata": {},
   "outputs": [],
   "source": [
    "df['Review Date']=pd.to_datetime(df['Review Date'])"
   ]
  },
  {
   "cell_type": "code",
   "execution_count": 7,
   "metadata": {},
   "outputs": [
    {
     "name": "stdout",
     "output_type": "stream",
     "text": [
      "Fecha mas reciente 2024-03-06 00:00:00\n",
      "Fecha mas lejana 2016-03-22 00:00:00\n"
     ]
    }
   ],
   "source": [
    "fecha_max=df['Review Date'].max()\n",
    "fecha_min=df['Review Date'].min()\n",
    "\n",
    "print(f'Fecha mas reciente {fecha_max}')\n",
    "print(f'Fecha mas lejana {fecha_min}')"
   ]
  },
  {
   "cell_type": "markdown",
   "metadata": {},
   "source": [
    "¿Cuál es el promedio de comentarios de cada aerolínea por año?"
   ]
  },
  {
   "cell_type": "code",
   "execution_count": 8,
   "metadata": {},
   "outputs": [],
   "source": [
    "df[\"Review Date\"] = pd.to_datetime(df[\"Review Date\"])\n",
    "df[\"Year\"] = df[\"Review Date\"].dt.year"
   ]
  },
  {
   "cell_type": "code",
   "execution_count": 9,
   "metadata": {},
   "outputs": [],
   "source": [
    "comentarios_por_año = df.groupby([\"Airline\", \"Year\"]).size().reset_index(name=\"Total Comentarios\")"
   ]
  },
  {
   "cell_type": "code",
   "execution_count": 10,
   "metadata": {},
   "outputs": [
    {
     "data": {
      "text/html": [
       "<div>\n",
       "<style scoped>\n",
       "    .dataframe tbody tr th:only-of-type {\n",
       "        vertical-align: middle;\n",
       "    }\n",
       "\n",
       "    .dataframe tbody tr th {\n",
       "        vertical-align: top;\n",
       "    }\n",
       "\n",
       "    .dataframe thead th {\n",
       "        text-align: right;\n",
       "    }\n",
       "</style>\n",
       "<table border=\"1\" class=\"dataframe\">\n",
       "  <thead>\n",
       "    <tr style=\"text-align: right;\">\n",
       "      <th></th>\n",
       "      <th>Airline</th>\n",
       "      <th>Year</th>\n",
       "      <th>Total Comentarios</th>\n",
       "    </tr>\n",
       "  </thead>\n",
       "  <tbody>\n",
       "    <tr>\n",
       "      <th>0</th>\n",
       "      <td>Air France</td>\n",
       "      <td>2016</td>\n",
       "      <td>63</td>\n",
       "    </tr>\n",
       "    <tr>\n",
       "      <th>1</th>\n",
       "      <td>Air France</td>\n",
       "      <td>2017</td>\n",
       "      <td>135</td>\n",
       "    </tr>\n",
       "    <tr>\n",
       "      <th>2</th>\n",
       "      <td>Air France</td>\n",
       "      <td>2018</td>\n",
       "      <td>142</td>\n",
       "    </tr>\n",
       "    <tr>\n",
       "      <th>3</th>\n",
       "      <td>Air France</td>\n",
       "      <td>2019</td>\n",
       "      <td>128</td>\n",
       "    </tr>\n",
       "    <tr>\n",
       "      <th>4</th>\n",
       "      <td>Air France</td>\n",
       "      <td>2020</td>\n",
       "      <td>49</td>\n",
       "    </tr>\n",
       "    <tr>\n",
       "      <th>...</th>\n",
       "      <td>...</td>\n",
       "      <td>...</td>\n",
       "      <td>...</td>\n",
       "    </tr>\n",
       "    <tr>\n",
       "      <th>84</th>\n",
       "      <td>Turkish Airlines</td>\n",
       "      <td>2020</td>\n",
       "      <td>150</td>\n",
       "    </tr>\n",
       "    <tr>\n",
       "      <th>85</th>\n",
       "      <td>Turkish Airlines</td>\n",
       "      <td>2021</td>\n",
       "      <td>192</td>\n",
       "    </tr>\n",
       "    <tr>\n",
       "      <th>86</th>\n",
       "      <td>Turkish Airlines</td>\n",
       "      <td>2022</td>\n",
       "      <td>230</td>\n",
       "    </tr>\n",
       "    <tr>\n",
       "      <th>87</th>\n",
       "      <td>Turkish Airlines</td>\n",
       "      <td>2023</td>\n",
       "      <td>219</td>\n",
       "    </tr>\n",
       "    <tr>\n",
       "      <th>88</th>\n",
       "      <td>Turkish Airlines</td>\n",
       "      <td>2024</td>\n",
       "      <td>37</td>\n",
       "    </tr>\n",
       "  </tbody>\n",
       "</table>\n",
       "<p>89 rows × 3 columns</p>\n",
       "</div>"
      ],
      "text/plain": [
       "             Airline  Year  Total Comentarios\n",
       "0         Air France  2016                 63\n",
       "1         Air France  2017                135\n",
       "2         Air France  2018                142\n",
       "3         Air France  2019                128\n",
       "4         Air France  2020                 49\n",
       "..               ...   ...                ...\n",
       "84  Turkish Airlines  2020                150\n",
       "85  Turkish Airlines  2021                192\n",
       "86  Turkish Airlines  2022                230\n",
       "87  Turkish Airlines  2023                219\n",
       "88  Turkish Airlines  2024                 37\n",
       "\n",
       "[89 rows x 3 columns]"
      ]
     },
     "execution_count": 10,
     "metadata": {},
     "output_type": "execute_result"
    }
   ],
   "source": [
    "comentarios_por_año"
   ]
  },
  {
   "cell_type": "code",
   "execution_count": 11,
   "metadata": {},
   "outputs": [
    {
     "data": {
      "text/html": [
       "<div>\n",
       "<style scoped>\n",
       "    .dataframe tbody tr th:only-of-type {\n",
       "        vertical-align: middle;\n",
       "    }\n",
       "\n",
       "    .dataframe tbody tr th {\n",
       "        vertical-align: top;\n",
       "    }\n",
       "\n",
       "    .dataframe thead th {\n",
       "        text-align: right;\n",
       "    }\n",
       "</style>\n",
       "<table border=\"1\" class=\"dataframe\">\n",
       "  <thead>\n",
       "    <tr style=\"text-align: right;\">\n",
       "      <th>Year</th>\n",
       "      <th>2016</th>\n",
       "      <th>2017</th>\n",
       "      <th>2018</th>\n",
       "      <th>2019</th>\n",
       "      <th>2020</th>\n",
       "      <th>2021</th>\n",
       "      <th>2022</th>\n",
       "      <th>2023</th>\n",
       "      <th>2024</th>\n",
       "    </tr>\n",
       "    <tr>\n",
       "      <th>Airline</th>\n",
       "      <th></th>\n",
       "      <th></th>\n",
       "      <th></th>\n",
       "      <th></th>\n",
       "      <th></th>\n",
       "      <th></th>\n",
       "      <th></th>\n",
       "      <th></th>\n",
       "      <th></th>\n",
       "    </tr>\n",
       "  </thead>\n",
       "  <tbody>\n",
       "    <tr>\n",
       "      <th>Air France</th>\n",
       "      <td>63.0</td>\n",
       "      <td>135.0</td>\n",
       "      <td>142.0</td>\n",
       "      <td>128.0</td>\n",
       "      <td>49.0</td>\n",
       "      <td>42.0</td>\n",
       "      <td>113.0</td>\n",
       "      <td>118.0</td>\n",
       "      <td>8.0</td>\n",
       "    </tr>\n",
       "    <tr>\n",
       "      <th>All Nippon Airways</th>\n",
       "      <td>28.0</td>\n",
       "      <td>62.0</td>\n",
       "      <td>40.0</td>\n",
       "      <td>50.0</td>\n",
       "      <td>12.0</td>\n",
       "      <td>3.0</td>\n",
       "      <td>17.0</td>\n",
       "      <td>39.0</td>\n",
       "      <td>7.0</td>\n",
       "    </tr>\n",
       "    <tr>\n",
       "      <th>Cathay Pacific Airways</th>\n",
       "      <td>98.0</td>\n",
       "      <td>170.0</td>\n",
       "      <td>169.0</td>\n",
       "      <td>166.0</td>\n",
       "      <td>43.0</td>\n",
       "      <td>2.0</td>\n",
       "      <td>15.0</td>\n",
       "      <td>74.0</td>\n",
       "      <td>7.0</td>\n",
       "    </tr>\n",
       "    <tr>\n",
       "      <th>EVA Air</th>\n",
       "      <td>28.0</td>\n",
       "      <td>66.0</td>\n",
       "      <td>62.0</td>\n",
       "      <td>48.0</td>\n",
       "      <td>22.0</td>\n",
       "      <td>5.0</td>\n",
       "      <td>18.0</td>\n",
       "      <td>32.0</td>\n",
       "      <td>0.0</td>\n",
       "    </tr>\n",
       "    <tr>\n",
       "      <th>Emirates</th>\n",
       "      <td>169.0</td>\n",
       "      <td>264.0</td>\n",
       "      <td>259.0</td>\n",
       "      <td>244.0</td>\n",
       "      <td>103.0</td>\n",
       "      <td>50.0</td>\n",
       "      <td>125.0</td>\n",
       "      <td>117.0</td>\n",
       "      <td>17.0</td>\n",
       "    </tr>\n",
       "    <tr>\n",
       "      <th>Japan Airlines</th>\n",
       "      <td>32.0</td>\n",
       "      <td>28.0</td>\n",
       "      <td>29.0</td>\n",
       "      <td>34.0</td>\n",
       "      <td>13.0</td>\n",
       "      <td>11.0</td>\n",
       "      <td>23.0</td>\n",
       "      <td>28.0</td>\n",
       "      <td>3.0</td>\n",
       "    </tr>\n",
       "    <tr>\n",
       "      <th>Korean Air</th>\n",
       "      <td>22.0</td>\n",
       "      <td>45.0</td>\n",
       "      <td>39.0</td>\n",
       "      <td>35.0</td>\n",
       "      <td>10.0</td>\n",
       "      <td>2.0</td>\n",
       "      <td>9.0</td>\n",
       "      <td>22.0</td>\n",
       "      <td>3.0</td>\n",
       "    </tr>\n",
       "    <tr>\n",
       "      <th>Qatar Airways</th>\n",
       "      <td>141.0</td>\n",
       "      <td>264.0</td>\n",
       "      <td>213.0</td>\n",
       "      <td>239.0</td>\n",
       "      <td>141.0</td>\n",
       "      <td>123.0</td>\n",
       "      <td>258.0</td>\n",
       "      <td>214.0</td>\n",
       "      <td>30.0</td>\n",
       "    </tr>\n",
       "    <tr>\n",
       "      <th>Singapore Airlines</th>\n",
       "      <td>106.0</td>\n",
       "      <td>164.0</td>\n",
       "      <td>153.0</td>\n",
       "      <td>210.0</td>\n",
       "      <td>69.0</td>\n",
       "      <td>14.0</td>\n",
       "      <td>108.0</td>\n",
       "      <td>124.0</td>\n",
       "      <td>24.0</td>\n",
       "    </tr>\n",
       "    <tr>\n",
       "      <th>Turkish Airlines</th>\n",
       "      <td>119.0</td>\n",
       "      <td>200.0</td>\n",
       "      <td>236.0</td>\n",
       "      <td>302.0</td>\n",
       "      <td>150.0</td>\n",
       "      <td>192.0</td>\n",
       "      <td>230.0</td>\n",
       "      <td>219.0</td>\n",
       "      <td>37.0</td>\n",
       "    </tr>\n",
       "  </tbody>\n",
       "</table>\n",
       "</div>"
      ],
      "text/plain": [
       "Year                     2016   2017   2018   2019   2020   2021   2022  \\\n",
       "Airline                                                                   \n",
       "Air France               63.0  135.0  142.0  128.0   49.0   42.0  113.0   \n",
       "All Nippon Airways       28.0   62.0   40.0   50.0   12.0    3.0   17.0   \n",
       "Cathay Pacific Airways   98.0  170.0  169.0  166.0   43.0    2.0   15.0   \n",
       "EVA Air                  28.0   66.0   62.0   48.0   22.0    5.0   18.0   \n",
       "Emirates                169.0  264.0  259.0  244.0  103.0   50.0  125.0   \n",
       "Japan Airlines           32.0   28.0   29.0   34.0   13.0   11.0   23.0   \n",
       "Korean Air               22.0   45.0   39.0   35.0   10.0    2.0    9.0   \n",
       "Qatar Airways           141.0  264.0  213.0  239.0  141.0  123.0  258.0   \n",
       "Singapore Airlines      106.0  164.0  153.0  210.0   69.0   14.0  108.0   \n",
       "Turkish Airlines        119.0  200.0  236.0  302.0  150.0  192.0  230.0   \n",
       "\n",
       "Year                     2023  2024  \n",
       "Airline                              \n",
       "Air France              118.0   8.0  \n",
       "All Nippon Airways       39.0   7.0  \n",
       "Cathay Pacific Airways   74.0   7.0  \n",
       "EVA Air                  32.0   0.0  \n",
       "Emirates                117.0  17.0  \n",
       "Japan Airlines           28.0   3.0  \n",
       "Korean Air               22.0   3.0  \n",
       "Qatar Airways           214.0  30.0  \n",
       "Singapore Airlines      124.0  24.0  \n",
       "Turkish Airlines        219.0  37.0  "
      ]
     },
     "execution_count": 11,
     "metadata": {},
     "output_type": "execute_result"
    }
   ],
   "source": [
    "comentarios_pivot = comentarios_por_año.pivot_table(index=\"Airline\", columns=\"Year\", values=\"Total Comentarios\", fill_value=0)\n",
    "comentarios_pivot"
   ]
  },
  {
   "cell_type": "markdown",
   "metadata": {},
   "source": [
    "## Visualizaciones"
   ]
  },
  {
   "cell_type": "markdown",
   "metadata": {},
   "source": [
    "Un gráfico de barras que muestre la distribución de los vuelos a lo largo de los meses. Esto con el fin de poder identificar en cuales meses se viajan más o menos."
   ]
  },
  {
   "cell_type": "code",
   "execution_count": 12,
   "metadata": {},
   "outputs": [],
   "source": [
    "import matplotlib.pyplot as plt\n",
    "import seaborn as sns"
   ]
  },
  {
   "cell_type": "code",
   "execution_count": 13,
   "metadata": {},
   "outputs": [],
   "source": [
    "df[\"Month\"] = df[\"Review Date\"].dt.month"
   ]
  },
  {
   "cell_type": "code",
   "execution_count": 14,
   "metadata": {},
   "outputs": [],
   "source": [
    "vuelos_por_mes = df[\"Month\"].value_counts().sort_index()\n"
   ]
  },
  {
   "cell_type": "code",
   "execution_count": 15,
   "metadata": {},
   "outputs": [
    {
     "data": {
      "text/plain": [
       "([<matplotlib.axis.XTick at 0x1bee7c339d0>,\n",
       "  <matplotlib.axis.XTick at 0x1bee7a7f350>,\n",
       "  <matplotlib.axis.XTick at 0x1bee7c9c5d0>,\n",
       "  <matplotlib.axis.XTick at 0x1bee7cbbf90>,\n",
       "  <matplotlib.axis.XTick at 0x1bee7cc2510>,\n",
       "  <matplotlib.axis.XTick at 0x1bee7cc8b10>,\n",
       "  <matplotlib.axis.XTick at 0x1bee7ccb250>,\n",
       "  <matplotlib.axis.XTick at 0x1bee7cbb190>,\n",
       "  <matplotlib.axis.XTick at 0x1bee7cd2950>,\n",
       "  <matplotlib.axis.XTick at 0x1bee7cd8ed0>,\n",
       "  <matplotlib.axis.XTick at 0x1bee7cdb450>,\n",
       "  <matplotlib.axis.XTick at 0x1bee7cddbd0>],\n",
       " [Text(1, 0, 'Ene'),\n",
       "  Text(2, 0, 'Feb'),\n",
       "  Text(3, 0, 'Mar'),\n",
       "  Text(4, 0, 'Abr'),\n",
       "  Text(5, 0, 'May'),\n",
       "  Text(6, 0, 'Jun'),\n",
       "  Text(7, 0, 'Jul'),\n",
       "  Text(8, 0, 'Ago'),\n",
       "  Text(9, 0, 'Sep'),\n",
       "  Text(10, 0, 'Oct'),\n",
       "  Text(11, 0, 'Nov'),\n",
       "  Text(12, 0, 'Dic')])"
      ]
     },
     "execution_count": 15,
     "metadata": {},
     "output_type": "execute_result"
    },
    {
     "data": {
      "image/png": "[encoded data removed]",
      "text/plain": [
       "<Figure size 1000x500 with 1 Axes>"
      ]
     },
     "metadata": {},
     "output_type": "display_data"
    }
   ],
   "source": [
    "plt.figure(figsize=(10, 5))\n",
    "sns.barplot(x=vuelos_por_mes.index, y=vuelos_por_mes.values)\n",
    "\n",
    "plt.xlabel(\"Mes del Año\")\n",
    "plt.ylabel(\"Número de Vuelos\")\n",
    "plt.title(\"Distribución de Vuelos a lo Largo del Año\")\n",
    "plt.xticks(ticks=range(1, 13), labels=[\"Ene\", \"Feb\", \"Mar\", \"Abr\", \"May\", \"Jun\", \"Jul\", \"Ago\", \"Sep\", \"Oct\", \"Nov\", \"Dic\"])"
   ]
  },
  {
   "cell_type": "markdown",
   "metadata": {},
   "source": [
    "Un histograma que muestre “Overall Rating” de las dos aerolíneas con mayor \n",
    "cantidad de comentarios. Se debe diferenciar por color estas dos compañías. \n",
    "Gracias a esto se de pronto se puede identificar si alguna de estas dos empresas \n",
    "tiene una mejor calificación respecto a la otra.  "
   ]
  },
  {
   "cell_type": "code",
   "execution_count": 17,
   "metadata": {},
   "outputs": [
    {
     "data": {
      "image/png": "[encoded data removed]",
      "text/plain": [
       "<Figure size 1000x500 with 1 Axes>"
      ]
     },
     "metadata": {},
     "output_type": "display_data"
    }
   ],
   "source": [
    "import numpy as np\n",
    "\n",
    "top_2_aerolineas = df[\"Airline\"].value_counts().nlargest(2).index\n",
    "\n",
    "df_top_2 = df[df[\"Airline\"].isin(top_2_aerolineas)]\n",
    "\n",
    "plt.figure(figsize=(10, 5))\n",
    "sns.histplot(data=df_top_2, x=\"Overall Rating\", hue=\"Airline\", bins=np.arange(0, 11, 1), kde=True, alpha=0.7)\n",
    "\n",
    "plt.xlabel(\"Overall Rating\")\n",
    "plt.ylabel(\"Frecuencia\")\n",
    "plt.title(\"Histograma del Overall Rating para las dos aerolíneas con más comentarios\")\n",
    "plt.xticks(range(0, 11))\n",
    "\n",
    "plt.show()\n"
   ]
  },
  {
   "cell_type": "markdown",
   "metadata": {},
   "source": [
    "Un gráfico tipo torta/pastel que muestre el porcentaje de comentarios de \n",
    "“Economy Class”, “Business Class” y “Others”, es decir, solo se deben poder \n",
    "observar en el gráfico 3 categorías. "
   ]
  },
  {
   "cell_type": "code",
   "execution_count": 24,
   "metadata": {},
   "outputs": [
    {
     "data": {
      "image/png": "[encoded data removed]",
      "text/plain": [
       "<Figure size 640x480 with 1 Axes>"
      ]
     },
     "metadata": {},
     "output_type": "display_data"
    }
   ],
   "source": [
    "df[\"Class\"] = df[\"Class\"].astype(str).str.strip().str.lower()  # Asegurar que es string, eliminar espacios y convertir a minúsculas\n",
    "\n",
    "df[\"Class Category\"] = df[\"Class\"].apply(lambda x: \n",
    "    \"Economy Class\" if \"economy\" in x else \n",
    "    \"Business Class\" if \"business\" in x else \"Others\"\n",
    ")\n",
    "\n",
    "suma_categoria = df[\"Class Category\"].value_counts()\n",
    "\n",
    "plt.pie(suma_categoria, labels=suma_categoria.index, autopct='%1.1f%%', startangle=140)\n",
    "plt.title(\"Distribución de Comentarios por Clase de Vuelo\")\n",
    "\n",
    "# Mostrar el gráfico\n",
    "plt.show()\n"
   ]
  },
  {
   "cell_type": "markdown",
   "metadata": {},
   "source": [
    "Un gráfico de dispersión que compare “Seat Comfort” y “Value for Money”. "
   ]
  },
  {
   "cell_type": "code",
   "execution_count": null,
   "metadata": {},
   "outputs": [
    {
     "data": {
      "image/png": "[encoded data removed]",
      "text/plain": [
       "<Figure size 640x480 with 1 Axes>"
      ]
     },
     "metadata": {},
     "output_type": "display_data"
    }
   ],
   "source": [
    "sns.scatterplot(data=df, x=\"Seat Comfort\", y=\"Value For Money\", alpha=0.5, color=\"blue\")\n",
    "plt.xlabel(\"Seat Comfort\")\n",
    "plt.ylabel(\"Value For Money\")\n",
    "plt.title(\"Comparación entre Seat Comfort y Value For Money\")\n",
    "plt.show()\n"
   ]
  },
  {
   "cell_type": "markdown",
   "metadata": {},
   "source": [
    "Analisis de Santimientos"
   ]
  },
  {
   "cell_type": "code",
   "execution_count": null,
   "metadata": {},
   "outputs": [],
   "source": [
    "def filtro_aerolinea(df, nombre_aeroliniea):\n",
    "    return df[df['Airline'].str.lower() == nombre_aeroliniea.lower()]\n",
    "\n",
    "def cuenta_palabras(textos):\n",
    "    conteo_palabras = {}\n",
    "    for texto in textos: \n",
    "        palabras = texto.lower().split()\n",
    "        for palabra in palabras:\n",
    "            if palabra:\n",
    "                conteo_palabras[palabra] = conteo_palabras.get(palabra, 0) + 1\n",
    "    return conteo_palabras\n",
    "\n",
    "\n",
    "def analisar_sentimientos(conteo_palabras, palabras_positivas, palabras_negativas):\n",
    "    cuenta_positivos = sum(conteo_palabras.get(palabra, 0) for palabra in palabras_positivas)\n",
    "    cuenta_negativos = sum(conteo_palabras.get(palabra, 0) for palabra in palabras_negativas)\n",
    "    return {'positivas': cuenta_positivos, 'negativas': cuenta_negativos}\n",
    "\n",
    "palabras_positivas = {\"great\", \"awesome\", \"wonderful\", \"fantastic\", \"amazing\", \"brilliant\", \"terrific\", \"outstanding\", \"fabulous\", \"superb\", \"marvelous\", \"splendid\", \"exceptional\", \"remarkable\", \"phenomenal\"}\n",
    "palabras_negativas = {\"terrible\", \"awful\", \"horrible\", \"bad\", \"disappointing\", \"poor\", \"dreadful\", \"mediocre\", \"unpleasant\", \"unacceptable\", \"inferior\", \"repulsive\", \"abysmal\", \"lousy\", \"miserable\"}\n",
    "\n",
    "def analisis_sentimientos(df, nombre_aeroliniea):\n",
    "    df_airline = filtro_aerolinea(df, nombre_aeroliniea)\n",
    "    \n",
    "    title_cuenta_palabras = cuenta_palabras(df_airline['Title'])\n",
    "    title_sentimiento = analisar_sentimientos(title_cuenta_palabras, palabras_positivas, palabras_negativas)\n",
    "    \n",
    "    # Análisis en \"Reviews\"\n",
    "    review_cuenta_palabras = cuenta_palabras(df_airline['Reviews'])\n",
    "    review_sentimiento = analisar_sentimientos(review_cuenta_palabras, palabras_positivas, palabras_negativas)\n",
    "    \n",
    "    return {'title_sentimiento': title_sentimiento,'review_sentimiento': review_sentimiento}"
   ]
  },
  {
   "cell_type": "code",
   "execution_count": null,
   "metadata": {},
   "outputs": [
    {
     "name": "stdout",
     "output_type": "stream",
     "text": [
      "Seleccione una aerolínea:\n",
      "1. Singapore Airlines\n",
      "2. Qatar Airways\n",
      "3. All Nippon Airways\n",
      "4. Emirates\n",
      "5. Japan Airlines\n",
      "6. Turkish Airlines\n",
      "7. Air France\n",
      "8. Cathay Pacific Airways\n",
      "9. EVA Air\n",
      "10. Korean Air\n",
      "Has seleccionado: Qatar Airways\n",
      "Sentimiento basado en 'Title': {'positivas': 219, 'negativas': 50}\n",
      "Sentimiento basado en 'Reviews': {'positivas': 774, 'negativas': 265}\n"
     ]
    }
   ],
   "source": [
    "aerolineas = [\n",
    "    \"Singapore Airlines\",\n",
    "    \"Qatar Airways\",\n",
    "    \"All Nippon Airways\",\n",
    "    \"Emirates\",\n",
    "    \"Japan Airlines\",\n",
    "    \"Turkish Airlines\",\n",
    "    \"Air France\",\n",
    "    \"Cathay Pacific Airways\",\n",
    "    \"EVA Air\",\n",
    "    \"Korean Air\"\n",
    "]\n",
    "\n",
    "print(\"Seleccione una aerolínea:\")\n",
    "for i, aerolinea in enumerate(aerolineas, 1):\n",
    "    print(f\"{i}. {aerolinea}\")\n",
    "\n",
    "opcion = int(input(\"Ingrese el número de la aerolínea: \"))\n",
    "\n",
    "if 1 <= opcion <= len(aerolineas):\n",
    "    aerolinea_seleccionada = aerolineas[opcion - 1]\n",
    "    print(f\"Has seleccionado: {aerolinea_seleccionada}\")\n",
    "else:\n",
    "    print(\"Opción no válida.\")\n",
    "\n",
    "\n",
    "airline_name = aerolinea_seleccionada\n",
    "results = analisis_sentimientos(df, airline_name)\n",
    "print(\"Sentimiento basado en 'Title':\", results['title_sentimiento'])\n",
    "print(\"Sentimiento basado en 'Reviews':\", results['review_sentimiento'])\n"
   ]
  }
 ],
 "metadata": {
  "kernelspec": {
   "display_name": "Python 3",
   "language": "python",
   "name": "python3"
  },
  "language_info": {
   "codemirror_mode": {
    "name": "ipython",
    "version": 3
   },
   "file_extension": ".py",
   "mimetype": "text/x-python",
   "name": "python",
   "nbconvert_exporter": "python",
   "pygments_lexer": "ipython3",
   "version": "3.11.4"
  }
 },
 "nbformat": 4,
 "nbformat_minor": 2
}
